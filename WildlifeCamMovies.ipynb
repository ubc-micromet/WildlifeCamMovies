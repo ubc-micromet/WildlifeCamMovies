{
 "cells": [
  {
   "cell_type": "markdown",
   "id": "ee71a149",
   "metadata": {},
   "source": [
    "# Wildlife Cam Movies\n",
    "\n",
    "This notebook process wildlife camera photos and create movies."
   ]
  },
  {
   "cell_type": "code",
   "execution_count": 1,
   "id": "da43aab8",
   "metadata": {},
   "outputs": [],
   "source": [
    "import os\n",
    "from PIL import Image\n",
    "import moviepy.video.io.ImageSequenceClip\n",
    "import moviepy.video.fx.all\n",
    "from datetime import datetime\n",
    "import time\n",
    "import ipywidgets\n",
    "from IPython.display import clear_output\n",
    "\n",
    "# Resizes all .jpg images in a folder by the desired compression factor\n",
    "# Rename the resized images with to YYYYmmdd_HHSS\n",
    "\n",
    "def resize(input_path,output_path,compression):\n",
    "    current.value=input_path\n",
    "    Skipped = []\n",
    "    dirs = os.listdir(input_path)\n",
    "    dirs.sort()\n",
    "    i = 0\n",
    "    for item in dirs:\n",
    "        if os.path.isfile(input_path+item) and (item.endswith(\".JPG\") or item.endswith(\".jpg\")):\n",
    "            try:\n",
    "                im = Image.open(input_path+item)\n",
    "                Timestamp = (datetime.strptime(im._getexif()[36867], \"%Y:%m:%d %H:%M:%S\"))\n",
    "                W,H = im.size\n",
    "                w,h = int(W/compression),int(H/compression)\n",
    "                imResize = im.resize((w,h), Image.ANTIALIAS)\n",
    "                out = output_path+str(Timestamp.year)+'\\\\'+str(Timestamp.strftime('%m'))+'\\\\'\n",
    "                if os.path.isdir(out):\n",
    "                    pass\n",
    "                else:\n",
    "                    os.makedirs(out)\n",
    "                Name = Timestamp.strftime(\"%Y%m%d_%H%M\")+'.jpg'\n",
    "                imResize.save(out+Name, 'JPEG', quality=90)\n",
    "            except:\n",
    "                Skipped.append(item)\n",
    "                pass\n",
    "            i += 1\n",
    "            prog.value=i/len(dirs)*100\n",
    "    prog.value=100\n",
    "    return(len(Skipped))\n",
    "\n",
    "# Make a video given the compressed input images\n",
    "def makeVid(image_files,Name,Out,fps):\n",
    "    clip = moviepy.video.io.ImageSequenceClip.ImageSequenceClip(image_files, fps=fps)\n",
    "    clip.write_videofile(Out+Name+'.mp4')\n"
   ]
  },
  {
   "cell_type": "markdown",
   "id": "30a05fd0",
   "metadata": {},
   "source": [
    "# Setup\n",
    "\n",
    "Specify paths\n",
    "Define parameters"
   ]
  },
  {
   "cell_type": "code",
   "execution_count": 2,
   "id": "b39bb3dc",
   "metadata": {},
   "outputs": [],
   "source": [
    "# Image Source\n",
    "Shortcut = 'G:\\\\.shortcut-targets-by-id\\\\1txCh9lZ7VGCujXGvBaJCMVnuxT-65q4K\\\\'\n",
    "# Site = 'Illisarvik\\\\'\n",
    "Image_Path = 'Micromet Lab\\\\Projects\\\\2019-BB2 Burns Bog 2\\\\Photos\\\\Wildlife Camera\\\\'\n",
    "Source = Shortcut  + Image_Path\n",
    "\n",
    "# Output Paths\n",
    "Output_Image_Path = 'G:\\\\My Drive\\\\PostDoc_Work\\\\Movies\\Movies\\\\BB2_Compressed\\\\'\n",
    "Output_Video_Path = 'G:\\\\My Drive\\\\PostDoc_Work\\\\Movies\\Movies\\\\BB2_Videos\\\\'\n",
    "\n",
    "# File size will decrease roughly proportial to the square of compression factor\n",
    "# ie - an 800 kb input image with a compression of 2 will be ~ 200 kb\n",
    "compression=3\n",
    "# images / second in video\n",
    "fps=24"
   ]
  },
  {
   "cell_type": "markdown",
   "id": "1696b655",
   "metadata": {},
   "source": [
    "# Compress the images"
   ]
  },
  {
   "cell_type": "code",
   "execution_count": 3,
   "id": "4fe0b8a3",
   "metadata": {},
   "outputs": [
    {
     "data": {
      "application/vnd.jupyter.widget-view+json": {
       "model_id": "b6cbeb94910d4883be0adb7ca2f12a92",
       "version_major": 2,
       "version_minor": 0
      },
      "text/plain": [
       "FloatProgress(value=0.0, description='Progress:')"
      ]
     },
     "metadata": {},
     "output_type": "display_data"
    },
    {
     "data": {
      "application/vnd.jupyter.widget-view+json": {
       "model_id": "639a2b5fa3fa4de1889a8f9c7b04f980",
       "version_major": 2,
       "version_minor": 0
      },
      "text/plain": [
       "Text(value='', description='Current File:', layout=Layout(width='600px'))"
      ]
     },
     "metadata": {},
     "output_type": "display_data"
    },
    {
     "name": "stdout",
     "output_type": "stream",
     "text": [
      "Compressing Images\n",
      "Skipped:  12  Images\n",
      "Time Elapesed:  1:06:37.958447\n"
     ]
    }
   ],
   "source": [
    "\n",
    "# Progress Bar\n",
    "prog = ipywidgets.FloatProgress(min=0, max=100,description='Progress:',width='100%')\n",
    "prog.value=0\n",
    "display(prog)\n",
    "current = ipywidgets.Text(value = '',description='Current File:',layout=ipywidgets.Layout(width='600px'))\n",
    "display(current)\n",
    "\n",
    "Jobs = [] \n",
    "for root,subfolders,files in os.walk(Source):\n",
    "    if root.endswith('\\\\')==False:\n",
    "        root += '\\\\'\n",
    "    Jobs.append(root)\n",
    "    \n",
    "skipped = 0\n",
    "print('Compressing Images')\n",
    "T1 = datetime.now()\n",
    "for job in Jobs:\n",
    "    skipped += resize(job,Output_Image_Path,compression)\n",
    "print('Skipped: ',skipped,' Images')\n",
    "print('Time Elapesed: ',datetime.now()-T1)"
   ]
  },
  {
   "cell_type": "markdown",
   "id": "6a9d3ea3",
   "metadata": {},
   "source": [
    "# Make a Video"
   ]
  },
  {
   "cell_type": "code",
   "execution_count": 4,
   "id": "fec84fdc",
   "metadata": {},
   "outputs": [
    {
     "name": "stdout",
     "output_type": "stream",
     "text": [
      "Video Completed in :  0:06:23.890337\n",
      "Total Time Elapesed:  1:13:01.996856\n"
     ]
    }
   ],
   "source": [
    "\n",
    "Jobs = []\n",
    "Name = []\n",
    "for root,subfolders,files in os.walk(Output_Image_Path):\n",
    "    if root.endswith('\\\\')==False:\n",
    "        root += '\\\\'\n",
    "    Jobs.append(root)\n",
    "    \n",
    "T2 = datetime.now()\n",
    "for job in Jobs:\n",
    "    Name = job.split('\\\\')[-3]+'_'+job.split('\\\\')[-2]\n",
    "    print(Name)\n",
    "    image_files = [os.path.join(job,img)\n",
    "                   for img in os.listdir(job)\n",
    "                   if img.endswith(\".jpg\")]\n",
    "    image_files.sort()\n",
    "    if len(image_files)>0:\n",
    "        makeVid(image_files,Name,Output_Video_Path,fps)\n",
    "    clear_output()\n",
    "\n",
    "print('Video Completed in : ',datetime.now()-T2)\n",
    "\n",
    "print('Total Time Elapesed: ',datetime.now()-T1)"
   ]
  }
 ],
 "metadata": {
  "kernelspec": {
   "display_name": "Python 3 (ipykernel)",
   "language": "python",
   "name": "python3"
  },
  "language_info": {
   "codemirror_mode": {
    "name": "ipython",
    "version": 3
   },
   "file_extension": ".py",
   "mimetype": "text/x-python",
   "name": "python",
   "nbconvert_exporter": "python",
   "pygments_lexer": "ipython3",
   "version": "3.8.10"
  }
 },
 "nbformat": 4,
 "nbformat_minor": 5
}
